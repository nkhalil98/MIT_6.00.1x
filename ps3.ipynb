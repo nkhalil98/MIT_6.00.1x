{
 "cells": [
  {
   "cell_type": "markdown",
   "id": "0ccb3b4c",
   "metadata": {},
   "source": [
    "**Problem 1**\n",
    "\n",
    "Please read the Hangman Introduction before starting this problem. We'll start by writing 3 simple functions that will help us easily code the Hangman problem. First, implement the function isWordGuessed that takes in two parameters - a string, secretWord, and a list of letters, lettersGuessed. This function returns a boolean - True if secretWord has been guessed (ie, all the letters of secretWord are in lettersGuessed) and False otherwise.\n",
    "\n",
    "Example Usage:\n",
    "\n",
    "<code>\n",
    ">>> secretWord = 'apple' \n",
    ">>> lettersGuessed = ['e', 'i', 'k', 'p', 'r', 's']\n",
    ">>> print(isWordGuessed(secretWord, lettersGuessed))\n",
    "False\n",
    "</code>    \n",
    "\n",
    "For this function, you may assume that all the letters in secretWord and lettersGuessed are lowercase."
   ]
  },
  {
   "cell_type": "code",
   "execution_count": 5,
   "id": "0cccc91b",
   "metadata": {},
   "outputs": [
    {
     "name": "stdout",
     "output_type": "stream",
     "text": [
      "False\n"
     ]
    }
   ],
   "source": [
    "def isWordGuessed(secretWord, lettersGuessed):\n",
    "    '''\n",
    "    secretWord: string, the word the user is guessing\n",
    "    lettersGuessed: list, what letters have been guessed so far\n",
    "    returns: boolean, True if all the letters of secretWord are in lettersGuessed;\n",
    "      False otherwise\n",
    "    '''\n",
    "    guessed = 0\n",
    "    for char in secretWord:\n",
    "        if char in lettersGuessed:\n",
    "            guessed += 1\n",
    "    return guessed == len(secretWord)\n",
    "\n",
    "secretWord = 'apple'\n",
    "lettersGuessed = ['e', 'i', 'k', 'p', 'r', 's']\n",
    "print(isWordGuessed(secretWord, lettersGuessed))"
   ]
  },
  {
   "cell_type": "markdown",
   "id": "94e4496a",
   "metadata": {},
   "source": [
    "**Problem 2**\n",
    "\n",
    "Next, implement the function getGuessedWord that takes in two parameters - a string, secretWord, and a list of letters, lettersGuessed. This function returns a string that is comprised of letters and underscores, based on what letters in lettersGuessed are in secretWord. This shouldn't be too different from isWordGuessed!\n",
    "\n",
    "Example Usage:\n",
    "\n",
    "<code>\n",
    ">>> secretWord = 'apple' \n",
    ">>> lettersGuessed = ['e', 'i', 'k', 'p', 'r', 's']\n",
    ">>> print(getGuessedWord(secretWord, lettersGuessed))\n",
    "'_ pp_ e'\n",
    "</code>\n",
    "When inserting underscores into your string, it's a good idea to add at least a space after each one, so it's clear to the user how many unguessed letters are left in the string (compare the readability of ____ with _ _ _ _ ). This is called usability - it's very important, when programming, to consider the usability of your program. If users find your program difficult to understand or operate, they won't use it!\n",
    "\n",
    "For this problem, you are free to use spacing in any way you wish - our grader will only check that the letters and underscores are in the proper order; it will not look at spacing. We do encourage you to think about usability when designing.\n",
    "\n",
    "For this function, you may assume that all the letters in secretWord and lettersGuessed are lowercase."
   ]
  },
  {
   "cell_type": "code",
   "execution_count": 6,
   "id": "0e7d95d7",
   "metadata": {},
   "outputs": [
    {
     "name": "stdout",
     "output_type": "stream",
     "text": [
      "_pp_e\n"
     ]
    }
   ],
   "source": [
    "def getGuessedWord(secretWord, lettersGuessed):\n",
    "    '''\n",
    "    secretWord: string, the word the user is guessing\n",
    "    lettersGuessed: list, what letters have been guessed so far\n",
    "    returns: string, comprised of letters and underscores that represents\n",
    "      what letters in secretWord have been guessed so far.\n",
    "    '''\n",
    "    GuessedWord = ''\n",
    "    for char in secretWord:\n",
    "        if char in lettersGuessed:\n",
    "           GuessedWord += char\n",
    "        else:\n",
    "            GuessedWord += '_'\n",
    "    return GuessedWord\n",
    "\n",
    "secretWord = 'apple'\n",
    "lettersGuessed = ['e', 'i', 'k', 'p', 'r', 's']\n",
    "print(getGuessedWord(secretWord, lettersGuessed))"
   ]
  },
  {
   "cell_type": "markdown",
   "id": "27f328cb",
   "metadata": {},
   "source": [
    "**Problem 3**\n",
    "\n",
    "Next, implement the function getAvailableLetters that takes in one parameter - a list of letters, lettersGuessed. This function returns a string that is comprised of lowercase English letters - all lowercase English letters that are not in lettersGuessed.\n",
    "\n",
    "Example Usage:\n",
    "\n",
    "<code>\n",
    ">>> lettersGuessed = ['e', 'i', 'k', 'p', 'r', 's']\n",
    ">>> print(getAvailableLetters(lettersGuessed))\n",
    "abcdfghjlmnoqtuvwxyz\n",
    "</code>\n",
    "\n",
    "Note that this function should return the letters in alphabetical order, as in the example above.\n",
    "\n",
    "For this function, you may assume that all the letters in lettersGuessed are lowercase.\n",
    "\n",
    "Hint: You might consider using string.ascii_lowercase, which is a string comprised of all lowercase letters:\n",
    "\n",
    "<code>\n",
    ">>> import string\n",
    ">>> print(string.ascii_lowercase)\n",
    "abcdefghijklmnopqrstuvwxyz\n",
    "</code>    "
   ]
  },
  {
   "cell_type": "code",
   "execution_count": 7,
   "id": "942c300c",
   "metadata": {},
   "outputs": [
    {
     "name": "stdout",
     "output_type": "stream",
     "text": [
      "abcdefghijklmnopqrstuvwxyz\n"
     ]
    }
   ],
   "source": [
    "import string\n",
    "\n",
    "def getAvailableLetters(lettersGuessed):\n",
    "    '''\n",
    "    lettersGuessed: list, what letters have been guessed so far\n",
    "    returns: string, comprised of letters that represents what letters have not\n",
    "      yet been guessed.\n",
    "    '''\n",
    "    available = string.ascii_lowercase\n",
    "    for char in lettersGuessed:\n",
    "        if char in available:\n",
    "            available.replace(char, '')\n",
    "    return available\n",
    "\n",
    "lettersGuessed = ['e', 'i', 'k', 'p', 'r', 's']\n",
    "print(getAvailableLetters(lettersGuessed))"
   ]
  },
  {
   "cell_type": "markdown",
   "id": "bdf29626",
   "metadata": {},
   "source": [
    "Now you will implement the function hangman, which takes one parameter - the secretWord the user is to guess. This starts up an interactive game of Hangman between the user and the computer. Be sure you take advantage of the three helper functions, isWordGuessed, getGuessedWord, and getAvailableLetters, that you've defined in the previous part.\n",
    "\n",
    "Hints:\n",
    "You should start by noticing where we're using the provided functions (at the top of ps3_hangman.py) to load the words and pick a random one. Note that the functions loadWords and chooseWord should only be used on your local machine, not in the tutor. When you enter in your solution in the tutor, you only need to give your hangman function.\n",
    "\n",
    "Consider using lower() to convert user input to lower case. For example:\n",
    "\n",
    "<code>\n",
    "guess = 'A'\n",
    "guessInLowerCase = guess.lower()\n",
    "</code>    \n",
    "    \n",
    "Consider writing additional helper functions if you need them!\n",
    "\n",
    "There are four important pieces of information you may wish to store:\n",
    "\n",
    "secretWord: The word to guess.\n",
    "\n",
    "lettersGuessed: The letters that have been guessed so far.\n",
    "\n",
    "mistakesMade: The number of incorrect guesses made so far.\n",
    "\n",
    "availableLetters: The letters that may still be guessed. Every time a player guesses a letter, the guessed letter must be removed from availableLetters (and if they guess a letter that is not in availableLetters, you should print a message telling them they've already guessed that - so try again!)."
   ]
  },
  {
   "cell_type": "code",
   "execution_count": 9,
   "id": "d997e02c",
   "metadata": {},
   "outputs": [],
   "source": [
    "def hangman(secretWord):    \n",
    "    '''\n",
    "    secretWord: string, the secret word to guess.\n",
    "\n",
    "    Starts up an interactive game of Hangman.\n",
    "\n",
    "    * At the start of the game, let the user know how many \n",
    "      letters the secretWord contains.\n",
    "\n",
    "    * Ask the user to supply one guess (i.e. letter) per round.\n",
    "\n",
    "    * The user should receive feedback immediately after each guess \n",
    "      about whether their guess appears in the computers word.\n",
    "\n",
    "    * After each round, you should also display to the user the \n",
    "      partially guessed word so far, as well as letters that the \n",
    "      user has not yet guessed.\n",
    "\n",
    "    Follows the other limitations detailed in the problem write-up.\n",
    "    '''\n",
    "    lettersGuessed = []\n",
    "    guesses = 8\n",
    "    print('Welcome to the game Hangman!')\n",
    "    print('I am thinking of a word that is ' + str(len(secretWord)) + ' letters long.')\n",
    "    print(\"-----------\")\n",
    "    while not isWordGuessed(secretWord, lettersGuessed):\n",
    "        print('You have ' + str(guesses) + ' guesses left.')\n",
    "        print('Available letters: ' + getAvailableLetters(lettersGuessed))      \n",
    "        guess = input('Please guess a letter: ')\n",
    "        if guess in lettersGuessed:\n",
    "            print('Oops! You\\'ve already guessed that letter: ' + getGuessedWord(secretWord, lettersGuessed))\n",
    "            print('------------')\n",
    "        elif guess not in lettersGuessed and guess in secretWord:\n",
    "            lettersGuessed.append(guess)\n",
    "            print('Good guess: ' + getGuessedWord(secretWord, lettersGuessed))\n",
    "            print('------------')\n",
    "        else:\n",
    "            lettersGuessed.append(guess)\n",
    "            guesses -= 1 \n",
    "            print('Oops! That letter is not in my word: ' + getGuessedWord(secretWord, lettersGuessed)) \n",
    "            print('------------')\n",
    "        if guesses == 0:\n",
    "              print('Sorry, you ran out of guesses. The word was ' + secretWord + '.')\n",
    "              break\n",
    "        if isWordGuessed(secretWord, lettersGuessed):\n",
    "              print('Congratulations, you won!')"
   ]
  },
  {
   "cell_type": "code",
   "execution_count": 10,
   "id": "349e5d56",
   "metadata": {},
   "outputs": [
    {
     "name": "stdout",
     "output_type": "stream",
     "text": [
      "Welcome to the game Hangman!\n",
      "I am thinking of a word that is 4 letters long.\n",
      "-----------\n",
      "You have 8 guesses left.\n",
      "Available letters: abcdefghijklmnopqrstuvwxyz\n",
      "Please guess a letter: a\n",
      "Good guess: _a__\n",
      "------------\n",
      "You have 8 guesses left.\n",
      "Available letters: abcdefghijklmnopqrstuvwxyz\n",
      "Please guess a letter: a\n",
      "Oops! You've already guessed that letter: _a__\n",
      "------------\n",
      "You have 8 guesses left.\n",
      "Available letters: abcdefghijklmnopqrstuvwxyz\n",
      "Please guess a letter: s\n",
      "Oops! That letter is not in my word: _a__\n",
      "------------\n",
      "You have 7 guesses left.\n",
      "Available letters: abcdefghijklmnopqrstuvwxyz\n",
      "Please guess a letter: t\n",
      "Good guess: ta_t\n",
      "------------\n",
      "You have 7 guesses left.\n",
      "Available letters: abcdefghijklmnopqrstuvwxyz\n",
      "Please guess a letter: r\n",
      "Oops! That letter is not in my word: ta_t\n",
      "------------\n",
      "You have 6 guesses left.\n",
      "Available letters: abcdefghijklmnopqrstuvwxyz\n",
      "Please guess a letter: m\n",
      "Oops! That letter is not in my word: ta_t\n",
      "------------\n",
      "You have 5 guesses left.\n",
      "Available letters: abcdefghijklmnopqrstuvwxyz\n",
      "Please guess a letter: c\n",
      "Good guess: tact\n",
      "------------\n",
      "Congratulations, you won!\n"
     ]
    }
   ],
   "source": [
    "hangman('tact')"
   ]
  },
  {
   "cell_type": "code",
   "execution_count": 11,
   "id": "fa4f9a3d",
   "metadata": {},
   "outputs": [
    {
     "name": "stdout",
     "output_type": "stream",
     "text": [
      "Welcome to the game Hangman!\n",
      "I am thinking of a word that is 4 letters long.\n",
      "-----------\n",
      "You have 8 guesses left.\n",
      "Available letters: abcdefghijklmnopqrstuvwxyz\n",
      "Please guess a letter: a\n",
      "Oops! That letter is not in my word: ____\n",
      "------------\n",
      "You have 7 guesses left.\n",
      "Available letters: abcdefghijklmnopqrstuvwxyz\n",
      "Please guess a letter: b\n",
      "Oops! That letter is not in my word: ____\n",
      "------------\n",
      "You have 6 guesses left.\n",
      "Available letters: abcdefghijklmnopqrstuvwxyz\n",
      "Please guess a letter: c\n",
      "Oops! That letter is not in my word: ____\n",
      "------------\n",
      "You have 5 guesses left.\n",
      "Available letters: abcdefghijklmnopqrstuvwxyz\n",
      "Please guess a letter: d\n",
      "Oops! That letter is not in my word: ____\n",
      "------------\n",
      "You have 4 guesses left.\n",
      "Available letters: abcdefghijklmnopqrstuvwxyz\n",
      "Please guess a letter: e\n",
      "Good guess: e__e\n",
      "------------\n",
      "You have 4 guesses left.\n",
      "Available letters: abcdefghijklmnopqrstuvwxyz\n",
      "Please guess a letter: f\n",
      "Oops! That letter is not in my word: e__e\n",
      "------------\n",
      "You have 3 guesses left.\n",
      "Available letters: abcdefghijklmnopqrstuvwxyz\n",
      "Please guess a letter: g\n",
      "Oops! That letter is not in my word: e__e\n",
      "------------\n",
      "You have 2 guesses left.\n",
      "Available letters: abcdefghijklmnopqrstuvwxyz\n",
      "Please guess a letter: h\n",
      "Oops! That letter is not in my word: e__e\n",
      "------------\n",
      "You have 1 guesses left.\n",
      "Available letters: abcdefghijklmnopqrstuvwxyz\n",
      "Please guess a letter: i\n",
      "Oops! That letter is not in my word: e__e\n",
      "------------\n",
      "Sorry, you ran out of guesses. The word was else.\n"
     ]
    }
   ],
   "source": [
    "hangman('else')"
   ]
  },
  {
   "cell_type": "code",
   "execution_count": null,
   "id": "fbc3b7b3",
   "metadata": {},
   "outputs": [],
   "source": []
  }
 ],
 "metadata": {
  "kernelspec": {
   "display_name": "Python 3 (ipykernel)",
   "language": "python",
   "name": "python3"
  },
  "language_info": {
   "codemirror_mode": {
    "name": "ipython",
    "version": 3
   },
   "file_extension": ".py",
   "mimetype": "text/x-python",
   "name": "python",
   "nbconvert_exporter": "python",
   "pygments_lexer": "ipython3",
   "version": "3.9.12"
  }
 },
 "nbformat": 4,
 "nbformat_minor": 5
}
